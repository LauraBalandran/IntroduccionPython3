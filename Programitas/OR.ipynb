{
 "cells": [
  {
   "cell_type": "code",
   "execution_count": 4,
   "metadata": {},
   "outputs": [
    {
     "name": "stdout",
     "output_type": "stream",
     "text": [
      "El digito pertenece a los primeros cinco número primos\n"
     ]
    }
   ],
   "source": [
    "x = int(input(\"Ingresa un digito: \")) \n",
    "# Determina si el digito se encuentra en los primeros cinco números primos \n",
    "if x == 2 or x == 3 or x == 5 or x == 7 or x == 11: \n",
    "    print(\"El digito pertenece a los primeros cinco números primos\") \n",
    "else: \n",
    "    print(\"El digito no es parte de los primeros cinco números primos\") "
   ]
  }
 ],
 "metadata": {
  "kernelspec": {
   "display_name": "Python 3.9.12 ('base')",
   "language": "python",
   "name": "python3"
  },
  "language_info": {
   "codemirror_mode": {
    "name": "ipython",
    "version": 3
   },
   "file_extension": ".py",
   "mimetype": "text/x-python",
   "name": "python",
   "nbconvert_exporter": "python",
   "pygments_lexer": "ipython3",
   "version": "3.9.12"
  },
  "orig_nbformat": 4,
  "vscode": {
   "interpreter": {
    "hash": "f33ca8932247db258d5bb34d4675eb21af0ad718bc30f19600df664726043b7a"
   }
  }
 },
 "nbformat": 4,
 "nbformat_minor": 2
}
